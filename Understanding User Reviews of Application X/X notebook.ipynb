{
 "cells": [
  {
   "cell_type": "code",
   "execution_count": 1,
   "id": "5c9d66f3",
   "metadata": {
    "scrolled": true
   },
   "outputs": [],
   "source": [
    "import pandas as pd\n",
    "import numpy as np\n",
    "import seaborn as sns\n",
    "import matplotlib.pyplot as plt"
   ]
  },
  {
   "cell_type": "code",
   "execution_count": 2,
   "id": "d09de77c",
   "metadata": {},
   "outputs": [],
   "source": [
    "data_x = pd.read_csv(\"C:/Users/Administrator/Downloads/datax.csv\")"
   ]
  },
  {
   "cell_type": "code",
   "execution_count": 3,
   "id": "65466094",
   "metadata": {},
   "outputs": [],
   "source": [
    "# set seed for reproducibility\n",
    "np.random.seed(0)"
   ]
  },
  {
   "cell_type": "code",
   "execution_count": 4,
   "id": "0eeec920",
   "metadata": {
    "scrolled": true
   },
   "outputs": [
    {
     "data": {
      "text/html": [
       "<div>\n",
       "<style scoped>\n",
       "    .dataframe tbody tr th:only-of-type {\n",
       "        vertical-align: middle;\n",
       "    }\n",
       "\n",
       "    .dataframe tbody tr th {\n",
       "        vertical-align: top;\n",
       "    }\n",
       "\n",
       "    .dataframe thead th {\n",
       "        text-align: right;\n",
       "    }\n",
       "</style>\n",
       "<table border=\"1\" class=\"dataframe\">\n",
       "  <thead>\n",
       "    <tr style=\"text-align: right;\">\n",
       "      <th></th>\n",
       "      <th>reviewId</th>\n",
       "      <th>userName</th>\n",
       "      <th>userImage</th>\n",
       "      <th>content</th>\n",
       "      <th>score</th>\n",
       "      <th>thumbsUpCount</th>\n",
       "      <th>reviewCreatedVersion</th>\n",
       "      <th>at</th>\n",
       "      <th>replyContent</th>\n",
       "      <th>repliedAt</th>\n",
       "      <th>appVersion</th>\n",
       "    </tr>\n",
       "  </thead>\n",
       "  <tbody>\n",
       "    <tr>\n",
       "      <th>0</th>\n",
       "      <td>1a7d5845-a9ab-4e44-972d-83bf9b3d4237</td>\n",
       "      <td>imam fikri</td>\n",
       "      <td>https://play-lh.googleusercontent.com/a-/ALV-U...</td>\n",
       "      <td>Cukup bagus sampai saat ini, tapi perlu diperb...</td>\n",
       "      <td>3</td>\n",
       "      <td>1683</td>\n",
       "      <td>10.29.0-release.0</td>\n",
       "      <td>2024-03-05 05:10:49</td>\n",
       "      <td>NaN</td>\n",
       "      <td>NaN</td>\n",
       "      <td>10.29.0-release.0</td>\n",
       "    </tr>\n",
       "    <tr>\n",
       "      <th>1</th>\n",
       "      <td>9c25353e-117f-4809-95a1-f0f4cb264e29</td>\n",
       "      <td>Alyaa</td>\n",
       "      <td>https://play-lh.googleusercontent.com/a-/ALV-U...</td>\n",
       "      <td>Dulu apk ini sangat seru, dan cepat untuk di a...</td>\n",
       "      <td>2</td>\n",
       "      <td>7259</td>\n",
       "      <td>10.23.0-release.0</td>\n",
       "      <td>2024-01-21 01:05:19</td>\n",
       "      <td>NaN</td>\n",
       "      <td>NaN</td>\n",
       "      <td>10.23.0-release.0</td>\n",
       "    </tr>\n",
       "    <tr>\n",
       "      <th>2</th>\n",
       "      <td>a71339b0-d948-4670-8ce1-ed6b114c2d92</td>\n",
       "      <td>M Kevin Kurniawan</td>\n",
       "      <td>https://play-lh.googleusercontent.com/a-/ALV-U...</td>\n",
       "      <td>Tolong solusinya, akhir-akhir ini X saya tidak...</td>\n",
       "      <td>1</td>\n",
       "      <td>1553</td>\n",
       "      <td>10.30.0-release.0</td>\n",
       "      <td>2024-03-06 02:19:02</td>\n",
       "      <td>NaN</td>\n",
       "      <td>NaN</td>\n",
       "      <td>10.30.0-release.0</td>\n",
       "    </tr>\n",
       "    <tr>\n",
       "      <th>3</th>\n",
       "      <td>97e3dabb-c849-4fe5-ad11-d8a3d2bd9a1a</td>\n",
       "      <td>Fahri Miftah Fauziadi</td>\n",
       "      <td>https://play-lh.googleusercontent.com/a-/ALV-U...</td>\n",
       "      <td>Kenapa pas saya install lagi jadi gabisa login...</td>\n",
       "      <td>1</td>\n",
       "      <td>580</td>\n",
       "      <td>10.32.0-release.1</td>\n",
       "      <td>2024-03-19 09:20:30</td>\n",
       "      <td>NaN</td>\n",
       "      <td>NaN</td>\n",
       "      <td>10.32.0-release.1</td>\n",
       "    </tr>\n",
       "    <tr>\n",
       "      <th>4</th>\n",
       "      <td>9394b37d-e8d6-4a01-ae23-baa49f8b1537</td>\n",
       "      <td>Ravi Mokoagow</td>\n",
       "      <td>https://play-lh.googleusercontent.com/a-/ALV-U...</td>\n",
       "      <td>Lebih dioptimalkan lagi jaringannya. Seringkal...</td>\n",
       "      <td>2</td>\n",
       "      <td>108</td>\n",
       "      <td>10.31.0-release.0</td>\n",
       "      <td>2024-03-12 22:50:19</td>\n",
       "      <td>NaN</td>\n",
       "      <td>NaN</td>\n",
       "      <td>10.31.0-release.0</td>\n",
       "    </tr>\n",
       "  </tbody>\n",
       "</table>\n",
       "</div>"
      ],
      "text/plain": [
       "                               reviewId               userName  \\\n",
       "0  1a7d5845-a9ab-4e44-972d-83bf9b3d4237             imam fikri   \n",
       "1  9c25353e-117f-4809-95a1-f0f4cb264e29                  Alyaa   \n",
       "2  a71339b0-d948-4670-8ce1-ed6b114c2d92      M Kevin Kurniawan   \n",
       "3  97e3dabb-c849-4fe5-ad11-d8a3d2bd9a1a  Fahri Miftah Fauziadi   \n",
       "4  9394b37d-e8d6-4a01-ae23-baa49f8b1537          Ravi Mokoagow   \n",
       "\n",
       "                                           userImage  \\\n",
       "0  https://play-lh.googleusercontent.com/a-/ALV-U...   \n",
       "1  https://play-lh.googleusercontent.com/a-/ALV-U...   \n",
       "2  https://play-lh.googleusercontent.com/a-/ALV-U...   \n",
       "3  https://play-lh.googleusercontent.com/a-/ALV-U...   \n",
       "4  https://play-lh.googleusercontent.com/a-/ALV-U...   \n",
       "\n",
       "                                             content  score  thumbsUpCount  \\\n",
       "0  Cukup bagus sampai saat ini, tapi perlu diperb...      3           1683   \n",
       "1  Dulu apk ini sangat seru, dan cepat untuk di a...      2           7259   \n",
       "2  Tolong solusinya, akhir-akhir ini X saya tidak...      1           1553   \n",
       "3  Kenapa pas saya install lagi jadi gabisa login...      1            580   \n",
       "4  Lebih dioptimalkan lagi jaringannya. Seringkal...      2            108   \n",
       "\n",
       "  reviewCreatedVersion                   at  replyContent  repliedAt  \\\n",
       "0    10.29.0-release.0  2024-03-05 05:10:49           NaN        NaN   \n",
       "1    10.23.0-release.0  2024-01-21 01:05:19           NaN        NaN   \n",
       "2    10.30.0-release.0  2024-03-06 02:19:02           NaN        NaN   \n",
       "3    10.32.0-release.1  2024-03-19 09:20:30           NaN        NaN   \n",
       "4    10.31.0-release.0  2024-03-12 22:50:19           NaN        NaN   \n",
       "\n",
       "          appVersion  \n",
       "0  10.29.0-release.0  \n",
       "1  10.23.0-release.0  \n",
       "2  10.30.0-release.0  \n",
       "3  10.32.0-release.1  \n",
       "4  10.31.0-release.0  "
      ]
     },
     "execution_count": 4,
     "metadata": {},
     "output_type": "execute_result"
    }
   ],
   "source": [
    "data_x.head()"
   ]
  },
  {
   "cell_type": "code",
   "execution_count": 36,
   "id": "6ec467e4",
   "metadata": {},
   "outputs": [
    {
     "name": "stdout",
     "output_type": "stream",
     "text": [
      "Total Reviews: 199\n"
     ]
    }
   ],
   "source": [
    "total_reviews = data_x['reviewId'].nunique()\n",
    "print(\"Total Reviews:\", total_reviews)"
   ]
  },
  {
   "cell_type": "markdown",
   "id": "5f3c8f90",
   "metadata": {},
   "source": [
    "### Data Cleaning"
   ]
  },
  {
   "cell_type": "code",
   "execution_count": 5,
   "id": "80c0e5aa",
   "metadata": {},
   "outputs": [
    {
     "data": {
      "text/plain": [
       "reviewId                  0\n",
       "userName                  0\n",
       "userImage                 0\n",
       "content                   0\n",
       "score                     0\n",
       "thumbsUpCount             0\n",
       "reviewCreatedVersion      0\n",
       "at                        0\n",
       "replyContent            199\n",
       "repliedAt               199\n",
       "dtype: int64"
      ]
     },
     "execution_count": 5,
     "metadata": {},
     "output_type": "execute_result"
    }
   ],
   "source": [
    "# get the number of missing data points per column\n",
    "missing_values_count = data_x.isnull().sum()\n",
    "missing_values_count[0:10]"
   ]
  },
  {
   "cell_type": "code",
   "execution_count": 6,
   "id": "c5d0fb8e",
   "metadata": {},
   "outputs": [
    {
     "name": "stdout",
     "output_type": "stream",
     "text": [
      "18.181818181818183\n"
     ]
    }
   ],
   "source": [
    "# how many total missing values do we have?\n",
    "total_cells = np.product(data_x.shape)\n",
    "total_missing = missing_values_count.sum()\n",
    "\n",
    "# percent of data that is missing\n",
    "percent_missing = (total_missing/total_cells) * 100\n",
    "print(percent_missing)"
   ]
  },
  {
   "cell_type": "code",
   "execution_count": 8,
   "id": "3dc4b725",
   "metadata": {},
   "outputs": [
    {
     "data": {
      "text/html": [
       "<div>\n",
       "<style scoped>\n",
       "    .dataframe tbody tr th:only-of-type {\n",
       "        vertical-align: middle;\n",
       "    }\n",
       "\n",
       "    .dataframe tbody tr th {\n",
       "        vertical-align: top;\n",
       "    }\n",
       "\n",
       "    .dataframe thead th {\n",
       "        text-align: right;\n",
       "    }\n",
       "</style>\n",
       "<table border=\"1\" class=\"dataframe\">\n",
       "  <thead>\n",
       "    <tr style=\"text-align: right;\">\n",
       "      <th></th>\n",
       "      <th>reviewId</th>\n",
       "      <th>userName</th>\n",
       "      <th>userImage</th>\n",
       "      <th>content</th>\n",
       "      <th>score</th>\n",
       "      <th>thumbsUpCount</th>\n",
       "      <th>reviewCreatedVersion</th>\n",
       "      <th>at</th>\n",
       "      <th>replyContent</th>\n",
       "      <th>repliedAt</th>\n",
       "      <th>appVersion</th>\n",
       "    </tr>\n",
       "  </thead>\n",
       "  <tbody>\n",
       "  </tbody>\n",
       "</table>\n",
       "</div>"
      ],
      "text/plain": [
       "Empty DataFrame\n",
       "Columns: [reviewId, userName, userImage, content, score, thumbsUpCount, reviewCreatedVersion, at, replyContent, repliedAt, appVersion]\n",
       "Index: []"
      ]
     },
     "execution_count": 8,
     "metadata": {},
     "output_type": "execute_result"
    }
   ],
   "source": [
    "# remove all the rows that contain a missing value\n",
    "data_x.dropna()"
   ]
  },
  {
   "cell_type": "code",
   "execution_count": 9,
   "id": "45471996",
   "metadata": {},
   "outputs": [
    {
     "name": "stdout",
     "output_type": "stream",
     "text": [
      "0    2024-03-05 05:10:49\n",
      "1    2024-01-21 01:05:19\n",
      "2    2024-03-06 02:19:02\n",
      "3    2024-03-19 09:20:30\n",
      "4    2024-03-12 22:50:19\n",
      "Name: at, dtype: object\n"
     ]
    }
   ],
   "source": [
    "print(data_x['at'].head())"
   ]
  },
  {
   "cell_type": "code",
   "execution_count": 11,
   "id": "6d874827",
   "metadata": {},
   "outputs": [],
   "source": [
    "# create a new column, date_parsed, with the parsed dates\n",
    "data_x['at_parsed'] = pd.to_datetime(data_x['at'], format=\"%Y-%m-%d %H:%M:%S\")"
   ]
  },
  {
   "cell_type": "code",
   "execution_count": 12,
   "id": "03d700ec",
   "metadata": {},
   "outputs": [
    {
     "data": {
      "text/plain": [
       "0   2024-03-05 05:10:49\n",
       "1   2024-01-21 01:05:19\n",
       "2   2024-03-06 02:19:02\n",
       "3   2024-03-19 09:20:30\n",
       "4   2024-03-12 22:50:19\n",
       "Name: at_parsed, dtype: datetime64[ns]"
      ]
     },
     "execution_count": 12,
     "metadata": {},
     "output_type": "execute_result"
    }
   ],
   "source": [
    "data_x['at_parsed'].head()"
   ]
  },
  {
   "cell_type": "code",
   "execution_count": 13,
   "id": "950e83e3",
   "metadata": {},
   "outputs": [
    {
     "data": {
      "text/plain": [
       "array(['4ALIZ _WYQE', 'AOI', 'ARF electronik', 'Abdurrahman Hakim 8A',\n",
       "       'Abi Firmansyah', 'Achmad rijal', 'Ade Nur Mufidah',\n",
       "       'Ade Wulan Fitriana', 'Adi Prayoga', 'Adrian Putra', 'AgngSetyo_',\n",
       "       'Ahmad Rafliudin', 'Ahza aqila sabita (aqila)', 'Akun Gamer',\n",
       "       'Ali Aldebaran', 'Aliefia Damayanti', 'Alyaa', 'Ambssdr Ambssdr',\n",
       "       'Anak Kampung', 'Andri Harun', 'Anonymous', 'Anti Anti',\n",
       "       'Aoshi Yush', 'Aozora Vicky', 'Araki streaming', 'Ardi Ansyah',\n",
       "       'Arjuno Sableng', 'Asahiro', 'Ashari Rasyid', 'Athaya', 'Athirah',\n",
       "       'Awalia Cahya R.', 'Badrudin Nigam Khan', 'Bagus Pramaysha',\n",
       "       'Bedjo Pentol', 'CHIU FANG HIN', 'Cap', 'Chabi 037',\n",
       "       'Cinta Anggreka', 'Clone', 'Crryz', 'Dagoba Dragon', 'Dayu Tapini',\n",
       "       'Deppy_prima Dani', 'Dimas Bayu', 'Dodo Oktavianda',\n",
       "       'Dwidzaky Radhitiyah', 'Dyah ayu', 'EGGY HERDYANA', 'Eko Hermawan',\n",
       "       'Elda Paramita', 'Everly Sheena', 'FF Rusher_Gaming Indonesia',\n",
       "       'Faathir Alfath', 'Fadila', 'Fahira santuy',\n",
       "       'Fahri Miftah Fauziadi', 'Fahrul S', 'Falah Wijaya',\n",
       "       'Farhan Maulana', 'Fathir Rayhan', 'Fazira Prisasti',\n",
       "       'Febri Tri Setiawan', 'Fiqih Nazarudin',\n",
       "       'GLADYS ARIA KRISNA ALOEVERA', 'Galih Istihadi', 'Geo Tirta',\n",
       "       'Germanikus Clintonis Fernandez', 'Gita Safitri',\n",
       "       'Grock Is powerfull', 'Hady Albantino', 'Haikal Kesa',\n",
       "       'Hasan Basri.,SE', 'Hipdi Lah', 'Hisyam Adji',\n",
       "       'Illyunhusnul Fajri', 'Imam Mahdi', 'Indah Raffi',\n",
       "       'Isnanda Ratulfia', 'JPD Channel', 'Jasuke 622', 'Jechrin Nokas',\n",
       "       'Jihan Syadusa', 'Jonathan Nelwan', 'Joni Irawan', 'Kadek Kirani',\n",
       "       'Kahar Raden', 'Khoirina Putri', 'Kiana Nava sabrina',\n",
       "       'Kinaya Zeta Safira', 'KivaCraft Gaming', 'Kris Aditya',\n",
       "       'Krkfdlor Lefelo', 'Kucing Turu', 'L TV Project', 'LAPAKIKI',\n",
       "       'Lazy Laz', 'Lexy', 'Lina O', 'Lio', 'M Kevin Kurniawan',\n",
       "       'M Pauzan', 'MANz TT', 'Mahesa Iman', 'Marick Bagas', 'Mas Imam',\n",
       "       'Mela Puteri', 'Meli Marlina', 'Memek Virgin', 'Misbakhul Munif',\n",
       "       'Mistiges 31', 'Mnur hafidz', 'Monica Anggraini', 'Muhamad Aqshal',\n",
       "       'Muhammad Fajri', 'Muhammad Farell Hanif',\n",
       "       'Muhammad Maulana Darmawan', 'Mumtahanah Zhafirah',\n",
       "       'Murai Gacor123', 'Nabila Rahmadhani Aulia',\n",
       "       'Nabila Razka Prasetya', 'Nabilla', 'Nadya Salsabila', 'Natalia',\n",
       "       'Nauli Putri', 'Ngawur Sodara', 'Nia Desinta Melinda',\n",
       "       'Nirwana Fathzafi', 'Nujum Masrifa', 'Nur Alifka',\n",
       "       'Nur fajar Rudianto', 'Ocy Febrian', 'Oppoa16 New',\n",
       "       'Pemain abal-abal', 'Profesional Life 29', 'Putu Fira',\n",
       "       'Queen Vanessa', 'RIDWAN A. RAHMANTYO', 'Raditia Aprilianto',\n",
       "       'Rahma Nurul Hidayah', 'Raisha Adeliaputri', 'Rangga Irsyah',\n",
       "       'Ravi Mokoagow', 'Rayhan Aditya', 'Rima Rahayu', 'Riyan NoorRiza',\n",
       "       \"Rizki Yuniarti Darma'arif\", 'Rossa Junior', 'Ru', 'Rxse.',\n",
       "       'Ryu Zane', 'Salman Alfarizy', 'Salsa Aurey', 'Sari indah',\n",
       "       'Seele Vollerei', 'Sela Wulandari', 'Septi Amelia', 'Shiela Vadia',\n",
       "       'Silvia Dwi Yuniarti', 'Syaqilla Sofia Maharani', 'Syifa Almira',\n",
       "       'T.Dedek Putra', 'Tio Aditia saputra', 'Tri Widia Astuty',\n",
       "       'Valentino Rizky', 'Violla Nana', 'Vorky Vorky', 'Wahab Mughni',\n",
       "       'Wei Yuze', 'YUDI PRAYUDI', 'Yanti Yulianti', 'Yunarir :D',\n",
       "       'ZHONi Dinata', 'Zafira Tauhid', 'aden fauz', 'alpi comel',\n",
       "       'ario seto', 'azzam wildan', 'bagas yudhi', 'cahayani pusundari',\n",
       "       'deris revianty', 'dhanti', 'elma', 'enabelpretti simanjuntak',\n",
       "       'imam fikri', 'insyiqa', 'jeje jejee', 'lentera agora',\n",
       "       'muhammad anhar', 'odi saputra channel', 'rverrent',\n",
       "       'saddam malik', 'sonia friska', 'su priyo', 'ufa nvnt', 'ujb',\n",
       "       'yoma panji saputra', 'yunita amalia', 'zahra nurani'],\n",
       "      dtype=object)"
      ]
     },
     "execution_count": 13,
     "metadata": {},
     "output_type": "execute_result"
    }
   ],
   "source": [
    "userName = data_x['userName'].unique()\n",
    "userName.sort()\n",
    "userName"
   ]
  },
  {
   "cell_type": "code",
   "execution_count": 14,
   "id": "8ca31b4c",
   "metadata": {},
   "outputs": [
    {
     "data": {
      "text/plain": [
       "array(['4ALIZ _WYQE', 'AOI', 'ARF electronik', 'Abdurrahman Hakim 8A',\n",
       "       'Abi Firmansyah', 'Achmad rijal', 'Ade Nur Mufidah',\n",
       "       'Ade Wulan Fitriana', 'Adi Prayoga', 'Adrian Putra', 'AgngSetyo_',\n",
       "       'Ahmad Rafliudin', 'Ahza aqila sabita (aqila)', 'Akun Gamer',\n",
       "       'Ali Aldebaran', 'Aliefia Damayanti', 'Alyaa', 'Ambssdr Ambssdr',\n",
       "       'Anak Kampung', 'Andri Harun', 'Anonymous', 'Anti Anti',\n",
       "       'Aoshi Yush', 'Aozora Vicky', 'Araki streaming', 'Ardi Ansyah',\n",
       "       'Arjuno Sableng', 'Asahiro', 'Ashari Rasyid', 'Athaya', 'Athirah',\n",
       "       'Awalia Cahya R.', 'Badrudin Nigam Khan', 'Bagus Pramaysha',\n",
       "       'Bedjo Pentol', 'CHIU FANG HIN', 'Cap', 'Chabi 037',\n",
       "       'Cinta Anggreka', 'Clone', 'Crryz', 'Dagoba Dragon', 'Dayu Tapini',\n",
       "       'Deppy_prima Dani', 'Dimas Bayu', 'Dodo Oktavianda',\n",
       "       'Dwidzaky Radhitiyah', 'Dyah ayu', 'EGGY HERDYANA', 'Eko Hermawan',\n",
       "       'Elda Paramita', 'Everly Sheena', 'FF Rusher_Gaming Indonesia',\n",
       "       'Faathir Alfath', 'Fadila', 'Fahira santuy',\n",
       "       'Fahri Miftah Fauziadi', 'Fahrul S', 'Falah Wijaya',\n",
       "       'Farhan Maulana', 'Fathir Rayhan', 'Fazira Prisasti',\n",
       "       'Febri Tri Setiawan', 'Fiqih Nazarudin',\n",
       "       'GLADYS ARIA KRISNA ALOEVERA', 'Galih Istihadi', 'Geo Tirta',\n",
       "       'Germanikus Clintonis Fernandez', 'Gita Safitri',\n",
       "       'Grock Is powerfull', 'Hady Albantino', 'Haikal Kesa',\n",
       "       'Hasan Basri.,SE', 'Hipdi Lah', 'Hisyam Adji',\n",
       "       'Illyunhusnul Fajri', 'Imam Mahdi', 'Indah Raffi',\n",
       "       'Isnanda Ratulfia', 'JPD Channel', 'Jasuke 622', 'Jechrin Nokas',\n",
       "       'Jihan Syadusa', 'Jonathan Nelwan', 'Joni Irawan', 'Kadek Kirani',\n",
       "       'Kahar Raden', 'Khoirina Putri', 'Kiana Nava sabrina',\n",
       "       'Kinaya Zeta Safira', 'KivaCraft Gaming', 'Kris Aditya',\n",
       "       'Krkfdlor Lefelo', 'Kucing Turu', 'L TV Project', 'LAPAKIKI',\n",
       "       'Lazy Laz', 'Lexy', 'Lina O', 'Lio', 'M Kevin Kurniawan',\n",
       "       'M Pauzan', 'MANz TT', 'Mahesa Iman', 'Marick Bagas', 'Mas Imam',\n",
       "       'Mela Puteri', 'Meli Marlina', 'Memek Virgin', 'Misbakhul Munif',\n",
       "       'Mistiges 31', 'Mnur hafidz', 'Monica Anggraini', 'Muhamad Aqshal',\n",
       "       'Muhammad Fajri', 'Muhammad Farell Hanif',\n",
       "       'Muhammad Maulana Darmawan', 'Mumtahanah Zhafirah',\n",
       "       'Murai Gacor123', 'Nabila Rahmadhani Aulia',\n",
       "       'Nabila Razka Prasetya', 'Nabilla', 'Nadya Salsabila', 'Natalia',\n",
       "       'Nauli Putri', 'Ngawur Sodara', 'Nia Desinta Melinda',\n",
       "       'Nirwana Fathzafi', 'Nujum Masrifa', 'Nur Alifka',\n",
       "       'Nur fajar Rudianto', 'Ocy Febrian', 'Oppoa16 New',\n",
       "       'Pemain abal-abal', 'Profesional Life 29', 'Putu Fira',\n",
       "       'Queen Vanessa', 'RIDWAN A. RAHMANTYO', 'Raditia Aprilianto',\n",
       "       'Rahma Nurul Hidayah', 'Raisha Adeliaputri', 'Rangga Irsyah',\n",
       "       'Ravi Mokoagow', 'Rayhan Aditya', 'Rima Rahayu', 'Riyan NoorRiza',\n",
       "       \"Rizki Yuniarti Darma'arif\", 'Rossa Junior', 'Ru', 'Rxse.',\n",
       "       'Ryu Zane', 'Salman Alfarizy', 'Salsa Aurey', 'Sari indah',\n",
       "       'Seele Vollerei', 'Sela Wulandari', 'Septi Amelia', 'Shiela Vadia',\n",
       "       'Silvia Dwi Yuniarti', 'Syaqilla Sofia Maharani', 'Syifa Almira',\n",
       "       'T.Dedek Putra', 'Tio Aditia saputra', 'Tri Widia Astuty',\n",
       "       'Valentino Rizky', 'Violla Nana', 'Vorky Vorky', 'Wahab Mughni',\n",
       "       'Wei Yuze', 'YUDI PRAYUDI', 'Yanti Yulianti', 'Yunarir :D',\n",
       "       'ZHONi Dinata', 'Zafira Tauhid', 'aden fauz', 'alpi comel',\n",
       "       'ario seto', 'azzam wildan', 'bagas yudhi', 'cahayani pusundari',\n",
       "       'deris revianty', 'dhanti', 'elma', 'enabelpretti simanjuntak',\n",
       "       'imam fikri', 'insyiqa', 'jeje jejee', 'lentera agora',\n",
       "       'muhammad anhar', 'odi saputra channel', 'rverrent',\n",
       "       'saddam malik', 'sonia friska', 'su priyo', 'ufa nvnt', 'ujb',\n",
       "       'yoma panji saputra', 'yunita amalia', 'zahra nurani'],\n",
       "      dtype=object)"
      ]
     },
     "execution_count": 14,
     "metadata": {},
     "output_type": "execute_result"
    }
   ],
   "source": [
    "# convert to title case\n",
    "data_x['userName'] = data_x['userName'].str.title()\n",
    "userName.sort()\n",
    "userName"
   ]
  },
  {
   "cell_type": "code",
   "execution_count": 15,
   "id": "3ea72108",
   "metadata": {},
   "outputs": [
    {
     "data": {
      "text/html": [
       "<div>\n",
       "<style scoped>\n",
       "    .dataframe tbody tr th:only-of-type {\n",
       "        vertical-align: middle;\n",
       "    }\n",
       "\n",
       "    .dataframe tbody tr th {\n",
       "        vertical-align: top;\n",
       "    }\n",
       "\n",
       "    .dataframe thead th {\n",
       "        text-align: right;\n",
       "    }\n",
       "</style>\n",
       "<table border=\"1\" class=\"dataframe\">\n",
       "  <thead>\n",
       "    <tr style=\"text-align: right;\">\n",
       "      <th></th>\n",
       "      <th>reviewId</th>\n",
       "      <th>userName</th>\n",
       "      <th>userImage</th>\n",
       "      <th>content</th>\n",
       "      <th>score</th>\n",
       "      <th>thumbsUpCount</th>\n",
       "      <th>reviewCreatedVersion</th>\n",
       "      <th>at</th>\n",
       "      <th>replyContent</th>\n",
       "      <th>repliedAt</th>\n",
       "      <th>appVersion</th>\n",
       "      <th>at_parsed</th>\n",
       "    </tr>\n",
       "  </thead>\n",
       "  <tbody>\n",
       "    <tr>\n",
       "      <th>0</th>\n",
       "      <td>1a7d5845-a9ab-4e44-972d-83bf9b3d4237</td>\n",
       "      <td>Imam Fikri</td>\n",
       "      <td>https://play-lh.googleusercontent.com/a-/ALV-U...</td>\n",
       "      <td>Cukup bagus sampai saat ini, tapi perlu diperb...</td>\n",
       "      <td>3</td>\n",
       "      <td>1683</td>\n",
       "      <td>10.29.0-release.0</td>\n",
       "      <td>2024-03-05 05:10:49</td>\n",
       "      <td>NaN</td>\n",
       "      <td>NaN</td>\n",
       "      <td>10.29.0-release.0</td>\n",
       "      <td>2024-03-05 05:10:49</td>\n",
       "    </tr>\n",
       "    <tr>\n",
       "      <th>1</th>\n",
       "      <td>9c25353e-117f-4809-95a1-f0f4cb264e29</td>\n",
       "      <td>Alyaa</td>\n",
       "      <td>https://play-lh.googleusercontent.com/a-/ALV-U...</td>\n",
       "      <td>Dulu apk ini sangat seru, dan cepat untuk di a...</td>\n",
       "      <td>2</td>\n",
       "      <td>7259</td>\n",
       "      <td>10.23.0-release.0</td>\n",
       "      <td>2024-01-21 01:05:19</td>\n",
       "      <td>NaN</td>\n",
       "      <td>NaN</td>\n",
       "      <td>10.23.0-release.0</td>\n",
       "      <td>2024-01-21 01:05:19</td>\n",
       "    </tr>\n",
       "    <tr>\n",
       "      <th>2</th>\n",
       "      <td>a71339b0-d948-4670-8ce1-ed6b114c2d92</td>\n",
       "      <td>M Kevin Kurniawan</td>\n",
       "      <td>https://play-lh.googleusercontent.com/a-/ALV-U...</td>\n",
       "      <td>Tolong solusinya, akhir-akhir ini X saya tidak...</td>\n",
       "      <td>1</td>\n",
       "      <td>1553</td>\n",
       "      <td>10.30.0-release.0</td>\n",
       "      <td>2024-03-06 02:19:02</td>\n",
       "      <td>NaN</td>\n",
       "      <td>NaN</td>\n",
       "      <td>10.30.0-release.0</td>\n",
       "      <td>2024-03-06 02:19:02</td>\n",
       "    </tr>\n",
       "    <tr>\n",
       "      <th>3</th>\n",
       "      <td>97e3dabb-c849-4fe5-ad11-d8a3d2bd9a1a</td>\n",
       "      <td>Fahri Miftah Fauziadi</td>\n",
       "      <td>https://play-lh.googleusercontent.com/a-/ALV-U...</td>\n",
       "      <td>Kenapa pas saya install lagi jadi gabisa login...</td>\n",
       "      <td>1</td>\n",
       "      <td>580</td>\n",
       "      <td>10.32.0-release.1</td>\n",
       "      <td>2024-03-19 09:20:30</td>\n",
       "      <td>NaN</td>\n",
       "      <td>NaN</td>\n",
       "      <td>10.32.0-release.1</td>\n",
       "      <td>2024-03-19 09:20:30</td>\n",
       "    </tr>\n",
       "    <tr>\n",
       "      <th>4</th>\n",
       "      <td>9394b37d-e8d6-4a01-ae23-baa49f8b1537</td>\n",
       "      <td>Ravi Mokoagow</td>\n",
       "      <td>https://play-lh.googleusercontent.com/a-/ALV-U...</td>\n",
       "      <td>Lebih dioptimalkan lagi jaringannya. Seringkal...</td>\n",
       "      <td>2</td>\n",
       "      <td>108</td>\n",
       "      <td>10.31.0-release.0</td>\n",
       "      <td>2024-03-12 22:50:19</td>\n",
       "      <td>NaN</td>\n",
       "      <td>NaN</td>\n",
       "      <td>10.31.0-release.0</td>\n",
       "      <td>2024-03-12 22:50:19</td>\n",
       "    </tr>\n",
       "  </tbody>\n",
       "</table>\n",
       "</div>"
      ],
      "text/plain": [
       "                               reviewId               userName  \\\n",
       "0  1a7d5845-a9ab-4e44-972d-83bf9b3d4237             Imam Fikri   \n",
       "1  9c25353e-117f-4809-95a1-f0f4cb264e29                  Alyaa   \n",
       "2  a71339b0-d948-4670-8ce1-ed6b114c2d92      M Kevin Kurniawan   \n",
       "3  97e3dabb-c849-4fe5-ad11-d8a3d2bd9a1a  Fahri Miftah Fauziadi   \n",
       "4  9394b37d-e8d6-4a01-ae23-baa49f8b1537          Ravi Mokoagow   \n",
       "\n",
       "                                           userImage  \\\n",
       "0  https://play-lh.googleusercontent.com/a-/ALV-U...   \n",
       "1  https://play-lh.googleusercontent.com/a-/ALV-U...   \n",
       "2  https://play-lh.googleusercontent.com/a-/ALV-U...   \n",
       "3  https://play-lh.googleusercontent.com/a-/ALV-U...   \n",
       "4  https://play-lh.googleusercontent.com/a-/ALV-U...   \n",
       "\n",
       "                                             content  score  thumbsUpCount  \\\n",
       "0  Cukup bagus sampai saat ini, tapi perlu diperb...      3           1683   \n",
       "1  Dulu apk ini sangat seru, dan cepat untuk di a...      2           7259   \n",
       "2  Tolong solusinya, akhir-akhir ini X saya tidak...      1           1553   \n",
       "3  Kenapa pas saya install lagi jadi gabisa login...      1            580   \n",
       "4  Lebih dioptimalkan lagi jaringannya. Seringkal...      2            108   \n",
       "\n",
       "  reviewCreatedVersion                   at  replyContent  repliedAt  \\\n",
       "0    10.29.0-release.0  2024-03-05 05:10:49           NaN        NaN   \n",
       "1    10.23.0-release.0  2024-01-21 01:05:19           NaN        NaN   \n",
       "2    10.30.0-release.0  2024-03-06 02:19:02           NaN        NaN   \n",
       "3    10.32.0-release.1  2024-03-19 09:20:30           NaN        NaN   \n",
       "4    10.31.0-release.0  2024-03-12 22:50:19           NaN        NaN   \n",
       "\n",
       "          appVersion           at_parsed  \n",
       "0  10.29.0-release.0 2024-03-05 05:10:49  \n",
       "1  10.23.0-release.0 2024-01-21 01:05:19  \n",
       "2  10.30.0-release.0 2024-03-06 02:19:02  \n",
       "3  10.32.0-release.1 2024-03-19 09:20:30  \n",
       "4  10.31.0-release.0 2024-03-12 22:50:19  "
      ]
     },
     "execution_count": 15,
     "metadata": {},
     "output_type": "execute_result"
    }
   ],
   "source": [
    "data_x.head()"
   ]
  },
  {
   "cell_type": "markdown",
   "id": "bf6d15b3",
   "metadata": {},
   "source": [
    "### Data Visualization"
   ]
  },
  {
   "cell_type": "code",
   "execution_count": 16,
   "id": "6301bd6f",
   "metadata": {},
   "outputs": [
    {
     "data": {
      "image/png": "[encoded data removed]",
      "text/plain": [
       "<Figure size 640x480 with 1 Axes>"
      ]
     },
     "metadata": {},
     "output_type": "display_data"
    }
   ],
   "source": [
    "# Visualization of review score distribution\n",
    "sns.countplot(x='score', data=data_x)\n",
    "plt.title('Review Score Distribution')\n",
    "plt.show()"
   ]
  },
  {
   "cell_type": "code",
   "execution_count": 38,
   "id": "db4ab8a8",
   "metadata": {},
   "outputs": [
    {
     "name": "stdout",
     "output_type": "stream",
     "text": [
      "Number of reviews for each score:\n",
      "Score 1: 132 reviews\n",
      "Score 2: 28 reviews\n",
      "Score 3: 20 reviews\n",
      "Score 5: 15 reviews\n",
      "Score 4: 4 reviews\n"
     ]
    }
   ],
   "source": [
    "# Count the number of reviews for each score\n",
    "score_counts = data_x['score'].value_counts()\n",
    "\n",
    "# Print the number of reviews for each score\n",
    "print(\"Number of reviews for each score:\")\n",
    "for score, count in score_counts.items():\n",
    "    print(f\"Score {score}: {count} reviews\")"
   ]
  },
  {
   "cell_type": "code",
   "execution_count": 19,
   "id": "ac74eadf",
   "metadata": {},
   "outputs": [
    {
     "data": {
      "image/png": "[encoded data removed]",
      "text/plain": [
       "<Figure size 1000x600 with 1 Axes>"
      ]
     },
     "metadata": {},
     "output_type": "display_data"
    }
   ],
   "source": [
    "# Application version analysis\n",
    "plt.figure(figsize=(10, 6))\n",
    "sns.countplot(x='appVersion', data=data_x)\n",
    "plt.title('Distribution of Reviews by Application Version')\n",
    "plt.xlabel('Application Version')\n",
    "plt.ylabel('Number of Reviews')\n",
    "plt.xticks(rotation=45)\n",
    "plt.show()"
   ]
  },
  {
   "cell_type": "code",
   "execution_count": 27,
   "id": "78f5d52d",
   "metadata": {},
   "outputs": [
    {
     "data": {
      "image/png": "[encoded data removed]",
      "text/plain": [
       "<Figure size 640x480 with 1 Axes>"
      ]
     },
     "metadata": {},
     "output_type": "display_data"
    }
   ],
   "source": [
    "# Analysis of correlation between score and thumbsUpCount\n",
    "sns.scatterplot(x='score', y='thumbsUpCount', data=data_x, color='green')\n",
    "plt.title('Relationship between Score and Thumbs Up Count')\n",
    "plt.xlabel('Score')\n",
    "plt.ylabel('Thumbs Up Count')\n",
    "plt.show()"
   ]
  },
  {
   "cell_type": "code",
   "execution_count": 22,
   "id": "39d038c9",
   "metadata": {},
   "outputs": [
    {
     "data": {
      "image/png": "[encoded data removed]",
      "text/plain": [
       "<Figure size 640x480 with 1 Axes>"
      ]
     },
     "metadata": {},
     "output_type": "display_data"
    }
   ],
   "source": [
    "# Analysis of review length\n",
    "data_x['content_length'] = data_x['content'].apply(len)\n",
    "plt.hist(data_x['content_length'], bins=20, color='skyblue')  \n",
    "plt.title('Distribution of Review Length')\n",
    "plt.xlabel('Review Length')\n",
    "plt.ylabel('Frequency')\n",
    "plt.show()"
   ]
  },
  {
   "cell_type": "code",
   "execution_count": 35,
   "id": "34417c21",
   "metadata": {},
   "outputs": [
    {
     "data": {
      "image/png": "[encoded data removed]",
      "text/plain": [
       "<Figure size 640x480 with 1 Axes>"
      ]
     },
     "metadata": {},
     "output_type": "display_data"
    }
   ],
   "source": [
    "# Analysis of word trends\n",
    "from nltk.tokenize import word_tokenize\n",
    "from collections import Counter\n",
    "\n",
    "# Tokenization of words\n",
    "all_words = ' '.join(data_x['content'])\n",
    "words = word_tokenize(all_words)\n",
    "\n",
    "# Count the frequency of each word occurrence\n",
    "word_freq = Counter(words)\n",
    "\n",
    "# Get the most common words (for example, the first 10 words)\n",
    "common_words = word_freq.most_common(10)\n",
    "\n",
    "# Visualize the results\n",
    "plt.bar(*zip(*common_words), color='Teal')\n",
    "plt.title('10 Most Common Words in Reviews')\n",
    "plt.xlabel('Word')\n",
    "plt.ylabel('Frequency')\n",
    "plt.xticks(rotation=45)\n",
    "plt.show()"
   ]
  },
  {
   "cell_type": "code",
   "execution_count": 31,
   "id": "ae5886d8",
   "metadata": {},
   "outputs": [
    {
     "name": "stdout",
     "output_type": "stream",
     "text": [
      "List of 10 Most Common Words in Reviews:\n",
      ",: 383 times\n",
      ".: 170 times\n",
      "bisa: 134 times\n",
      "di: 121 times\n",
      "!: 115 times\n",
      "ini: 109 times\n",
      "akun: 103 times\n",
      "saya: 102 times\n",
      "tidak: 81 times\n",
      "nya: 75 times\n"
     ]
    }
   ],
   "source": [
    "# Get the most common words (for example, the first 10 words)\n",
    "common_words = word_freq.most_common(10)\n",
    "\n",
    "# Print the list of 10 most common words\n",
    "print(\"List of 10 Most Common Words in Reviews:\")\n",
    "for word, freq in common_words:\n",
    "    print(f\"{word}: {freq} times\")"
   ]
  },
  {
   "cell_type": "code",
   "execution_count": 30,
   "id": "c5f50fec",
   "metadata": {},
   "outputs": [
    {
     "name": "stdout",
     "output_type": "stream",
     "text": [
      "Rating 1:\n",
      "Review with the highest number of upvotes: Makin kesini makin gak bener deh, makin lemot padahal jaringan bagus, lagi secroll tiba tiba keluar sendiri, klo mau save gambar susah banget, mau putar video lemot banget, dan berbagai keluhan lainnya, dulu sebelum di upgrade gak gini deh\n",
      "Number of upvotes: 9969\n",
      "\n",
      "Rating 2:\n",
      "Review with the highest number of upvotes: Dulu apk ini sangat seru, dan cepat untuk di akses. Sekarang setelah di update terus menerus malah banyak berita atau akun² yang tidak di follow malah terus menerus muncul, dan itu sangat mengganggu sekali, bahkan sekarang lebih banyak iklan², aksesnya gambar/video sedikit lama. Asliii timeline jadi ga asik bgt buat di scroll karena malah jadi kebanyakan akun² yg sama sekali engga di follow sebelumnya👊🏻 please perbaikii!!!!\n",
      "Number of upvotes: 7259\n",
      "\n",
      "Rating 3:\n",
      "Review with the highest number of upvotes: Apk nya bagus mudah untuk mendapatkan berita terkini, tapi kenapa yaa akhir akhir ini selalu loading bahkan postingan gambarnya gak muncul² fotonya, padahal ke apk lain lancar, udah nyoba pake VPN tapi tetep loading.,.. mohon diperbaiki\n",
      "Number of upvotes: 1728\n",
      "\n",
      "Rating 4:\n",
      "Review with the highest number of upvotes: sampai saat ini Twitter bagus bngt sih mulai dari fiturnya, tapi kenapa update yg sekarang ini ,,malah dipersulit krna sering error' pas buka dan kalo mau download video harus berlangganan padahal versi sebelumnya gak perlu berlangganan buat download videonya mohon adminnya perbaiki lagi🙏\n",
      "Number of upvotes: 20\n",
      "\n",
      "Rating 5:\n",
      "Review with the highest number of upvotes: Sangat bermanfaat untuk.mencari informasi informasi penting meskipun era digital memang lagi terdepan..semoga bisa di tingkatkan lagi dan untuk backgroundnya tolong digantin dengan gambar burung apa yg laen.jangan tanda x seperti itu keliatan serasa buka situs yang tidak senonoh.mohon di rubah.\n",
      "Number of upvotes: 1213\n",
      "\n"
     ]
    }
   ],
   "source": [
    "# Filter data for each rating from 1 to 5\n",
    "for rating in range(1, 6):\n",
    "    # Filter data based on rating\n",
    "    filtered_data = data_x[data_x['score'] == rating]\n",
    "    \n",
    "    # Group data based on review content\n",
    "    grouped_data = filtered_data.groupby('content')\n",
    "    \n",
    "    # Calculate the number of upvotes for each review group\n",
    "    upvote_counts = grouped_data['thumbsUpCount'].sum()\n",
    "    \n",
    "    # Identify the review with the highest number of upvotes\n",
    "    max_upvote_index = upvote_counts.idxmax()\n",
    "    max_upvote_count = upvote_counts[max_upvote_index]\n",
    "    \n",
    "    # Display the results\n",
    "    print(f\"Rating {rating}:\")\n",
    "    print(f\"Review with the highest number of upvotes: {max_upvote_index}\")\n",
    "    print(f\"Number of upvotes: {max_upvote_count}\")\n",
    "    print()"
   ]
  },
  {
   "cell_type": "code",
   "execution_count": 32,
   "id": "df430bf8",
   "metadata": {},
   "outputs": [
    {
     "name": "stdout",
     "output_type": "stream",
     "text": [
      "Rating 1:\n",
      "Review with the highest number of upvotes: Makin kesini makin gak bener deh, makin lemot padahal jaringan bagus, lagi secroll tiba tiba keluar sendiri, klo mau save gambar susah banget, mau putar video lemot banget, dan berbagai keluhan lainnya, dulu sebelum di upgrade gak gini deh\n",
      "Number of upvotes: 9969\n",
      "Review ID: 4e84a72a-fd74-4924-b159-18d4197a0074\n",
      "\n",
      "Rating 2:\n",
      "Review with the highest number of upvotes: Dulu apk ini sangat seru, dan cepat untuk di akses. Sekarang setelah di update terus menerus malah banyak berita atau akun² yang tidak di follow malah terus menerus muncul, dan itu sangat mengganggu sekali, bahkan sekarang lebih banyak iklan², aksesnya gambar/video sedikit lama. Asliii timeline jadi ga asik bgt buat di scroll karena malah jadi kebanyakan akun² yg sama sekali engga di follow sebelumnya👊🏻 please perbaikii!!!!\n",
      "Number of upvotes: 7259\n",
      "Review ID: 9c25353e-117f-4809-95a1-f0f4cb264e29\n",
      "\n",
      "Rating 3:\n",
      "Review with the highest number of upvotes: Apk nya bagus mudah untuk mendapatkan berita terkini, tapi kenapa yaa akhir akhir ini selalu loading bahkan postingan gambarnya gak muncul² fotonya, padahal ke apk lain lancar, udah nyoba pake VPN tapi tetep loading.,.. mohon diperbaiki\n",
      "Number of upvotes: 1728\n",
      "Review ID: 21b65f65-14a6-4d43-b573-fb628957eee0\n",
      "\n",
      "Rating 4:\n",
      "Review with the highest number of upvotes: sampai saat ini Twitter bagus bngt sih mulai dari fiturnya, tapi kenapa update yg sekarang ini ,,malah dipersulit krna sering error' pas buka dan kalo mau download video harus berlangganan padahal versi sebelumnya gak perlu berlangganan buat download videonya mohon adminnya perbaiki lagi🙏\n",
      "Number of upvotes: 20\n",
      "Review ID: 3bafe127-d470-4214-932a-3dcb6f2f2f42\n",
      "\n",
      "Rating 5:\n",
      "Review with the highest number of upvotes: Sangat bermanfaat untuk.mencari informasi informasi penting meskipun era digital memang lagi terdepan..semoga bisa di tingkatkan lagi dan untuk backgroundnya tolong digantin dengan gambar burung apa yg laen.jangan tanda x seperti itu keliatan serasa buka situs yang tidak senonoh.mohon di rubah.\n",
      "Number of upvotes: 1213\n",
      "Review ID: c897c99e-7f6b-4ae7-b669-9498cded73cc\n",
      "\n"
     ]
    }
   ],
   "source": [
    "# Filter data for each rating from 1 to 5\n",
    "for rating in range(1, 6):\n",
    "    # Filter data based on rating\n",
    "    filtered_data = data_x[data_x['score'] == rating]\n",
    "    \n",
    "    # Group data based on review content\n",
    "    grouped_data = filtered_data.groupby('content')\n",
    "    \n",
    "    # Calculate the number of upvotes for each review group\n",
    "    upvote_counts = grouped_data['thumbsUpCount'].sum()\n",
    "    \n",
    "    # Identify the review with the highest number of upvotes\n",
    "    max_upvote_index = upvote_counts.idxmax()\n",
    "    max_upvote_count = upvote_counts[max_upvote_index]\n",
    "    \n",
    "    # Identify the review ID\n",
    "    max_upvote_review_id = filtered_data.loc[filtered_data['content'] == max_upvote_index, 'reviewId'].iloc[0]\n",
    "    \n",
    "    # Display the results\n",
    "    print(f\"Rating {rating}:\")\n",
    "    print(f\"Review with the highest number of upvotes: {max_upvote_index}\")\n",
    "    print(f\"Number of upvotes: {max_upvote_count}\")\n",
    "    print(f\"Review ID: {max_upvote_review_id}\")\n",
    "    print()"
   ]
  },
  {
   "cell_type": "code",
   "execution_count": null,
   "id": "f7ebfcbb",
   "metadata": {},
   "outputs": [],
   "source": []
  }
 ],
 "metadata": {
  "kernelspec": {
   "display_name": "Python 3 (ipykernel)",
   "language": "python",
   "name": "python3"
  },
  "language_info": {
   "codemirror_mode": {
    "name": "ipython",
    "version": 3
   },
   "file_extension": ".py",
   "mimetype": "text/x-python",
   "name": "python",
   "nbconvert_exporter": "python",
   "pygments_lexer": "ipython3",
   "version": "3.10.9"
  }
 },
 "nbformat": 4,
 "nbformat_minor": 5
}
